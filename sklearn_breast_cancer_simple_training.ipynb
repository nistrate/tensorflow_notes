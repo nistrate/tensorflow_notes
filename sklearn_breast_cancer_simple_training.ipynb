{
  "nbformat": 4,
  "nbformat_minor": 0,
  "metadata": {
    "colab": {
      "name": "sklearn_breast_cancer_simple_training",
      "provenance": [],
      "collapsed_sections": [],
      "authorship_tag": "ABX9TyMxnRiCgryavQbScFwceq+O",
      "include_colab_link": true
    },
    "kernelspec": {
      "name": "python3",
      "display_name": "Python 3"
    }
  },
  "cells": [
    {
      "cell_type": "markdown",
      "metadata": {
        "id": "view-in-github",
        "colab_type": "text"
      },
      "source": [
        "<a href=\"https://colab.research.google.com/github/nistrate/tensorflow_notes/blob/master/sklearn_breast_cancer_simple_training.ipynb\" target=\"_parent\"><img src=\"https://colab.research.google.com/assets/colab-badge.svg\" alt=\"Open In Colab\"/></a>"
      ]
    },
    {
      "cell_type": "code",
      "metadata": {
        "id": "B0tGtmdcR_6a",
        "colab_type": "code",
        "colab": {
          "base_uri": "https://localhost:8080/",
          "height": 35
        },
        "outputId": "c97cdb2c-e1c9-4f4f-b3de-3a8849d9cd04"
      },
      "source": [
        "#!pip install -q tensorflow==2.0.0\n",
        "import tensorflow as tf\n",
        "print(tf.__version__)"
      ],
      "execution_count": 18,
      "outputs": [
        {
          "output_type": "stream",
          "text": [
            "2.2.0\n"
          ],
          "name": "stdout"
        }
      ]
    },
    {
      "cell_type": "code",
      "metadata": {
        "id": "vr0LyndASRck",
        "colab_type": "code",
        "colab": {}
      },
      "source": [
        "import numpy as np\n",
        "import scipy\n",
        "\n",
        "import matplotlib.pyplot as plt"
      ],
      "execution_count": 19,
      "outputs": []
    },
    {
      "cell_type": "markdown",
      "metadata": {
        "id": "DV3oLiSyUtM5",
        "colab_type": "text"
      },
      "source": [
        "Linear Classification Theory\n",
        "\n",
        "Recap the ML steps\n",
        "1) Load in the datat (x , y)\n",
        "2) Instatiate the model\n",
        "3) Train (\"fit\") the model ( model.fit(x,y) )\n",
        "4) Evaluate our model (accuracy on the train data)\n",
        "\n",
        "We are going to look at the:\n",
        "\n",
        "1) Architecture of the model (equation to go rfom input to prediction)\n",
        "2) How do we train the model\n",
        "  - cost / loss / error function function\n",
        "  - gradient descent to minimize the cost\n",
        "\n",
        "Definition of a line $y = wx+b$ (2D)\n",
        "\n",
        "$x_1$ is the horizontal axis $x$\n",
        "$x_2$ is the vertical axis $y$\n",
        "\n",
        "The equation of a line can be rewritten as:\n",
        "$$\n",
        "w_1 x_1 + w_2 x_2 + b = 0\n",
        "$$\n",
        "\n",
        " - How do we clasify?\n",
        "$$\n",
        "a = w_1 x_1 + w_2 x_2 + b\\\\\n",
        "~~~~~if~ a \\ge 0 \\rightarrow predict~1\\\\\n",
        "~~~~~if~ a < 0 \\rightarrow predict~0\n",
        "$$"
      ]
    },
    {
      "cell_type": "markdown",
      "metadata": {
        "id": "Y_PaYTuabP3T",
        "colab_type": "text"
      },
      "source": [
        "**Basic Structure of a tf program**\n",
        "\n",
        "D = #input size\n",
        "\n",
        "X_train, y_train = #Data for training\n",
        "X_test, y_test = #Data for testing\n",
        "\n",
        "model = tf.keras.models.Sequential([\n",
        "                                    tf.keras.layers.Input(shape = (D,)),\n",
        "                                    tf.keras.Dense(1, activation = 'sigmoid')\n",
        "])\n",
        " #Sequential means one after another\n",
        "\n",
        "\n",
        "**training the model**\n",
        "\n",
        " model.compile(optimizer = 'adam',\n",
        "               loss = 'binary_crossentropy',\n",
        "               metrics = ['accuracy'])\n",
        " \n",
        " #optimizer is the algorith like gradient descent, adam is a common one\n",
        " #metrics accuracy = #correct / #total\n",
        "\n",
        " #fitting\n",
        "\n",
        " r = model.fit(X_train, y_train,\n",
        "               validation_data = (X_test, y_test),\n",
        "               epochs = 100)\n",
        " \n",
        " plt.plot(r.history['loss'], label = 'loss') #training\n",
        " plt.plot(r.history['val_loss'], label = 'val_loss') #test"
      ]
    },
    {
      "cell_type": "code",
      "metadata": {
        "id": "OYLKWx3rbbvV",
        "colab_type": "code",
        "colab": {}
      },
      "source": [
        "# prediction if a patients tumor is malignant or benign\n",
        "\n",
        "#Load Data\n",
        "\n",
        "from sklearn.datasets import load_breast_cancer"
      ],
      "execution_count": 20,
      "outputs": []
    },
    {
      "cell_type": "code",
      "metadata": {
        "id": "Vv6PYjmdb3Ad",
        "colab_type": "code",
        "colab": {}
      },
      "source": [
        "#load the data\n",
        "data = load_breast_cancer() "
      ],
      "execution_count": 21,
      "outputs": []
    },
    {
      "cell_type": "code",
      "metadata": {
        "id": "HnpDksqab7uh",
        "colab_type": "code",
        "colab": {
          "base_uri": "https://localhost:8080/",
          "height": 35
        },
        "outputId": "c47eadfe-93ba-4ad8-ad9d-a02594bf4b1c"
      },
      "source": [
        "# check the type of data\n",
        "type(data)"
      ],
      "execution_count": 22,
      "outputs": [
        {
          "output_type": "execute_result",
          "data": {
            "text/plain": [
              "sklearn.utils.Bunch"
            ]
          },
          "metadata": {
            "tags": []
          },
          "execution_count": 22
        }
      ]
    },
    {
      "cell_type": "code",
      "metadata": {
        "id": "qhzb8Qryb_oe",
        "colab_type": "code",
        "colab": {
          "base_uri": "https://localhost:8080/",
          "height": 35
        },
        "outputId": "040a3e20-7284-4de6-9189-6d2e55acec5e"
      },
      "source": [
        "# note: this is a bunch object\n",
        "# this basically acts like a dictionary where you can treat the keys like atributes\n",
        "\n",
        "data.keys()"
      ],
      "execution_count": 23,
      "outputs": [
        {
          "output_type": "execute_result",
          "data": {
            "text/plain": [
              "dict_keys(['data', 'target', 'target_names', 'DESCR', 'feature_names', 'filename'])"
            ]
          },
          "metadata": {
            "tags": []
          },
          "execution_count": 23
        }
      ]
    },
    {
      "cell_type": "code",
      "metadata": {
        "id": "C-4megCQcObx",
        "colab_type": "code",
        "colab": {
          "base_uri": "https://localhost:8080/",
          "height": 35
        },
        "outputId": "7aa3321e-5ec9-401d-f5fb-97fcf6e576ab"
      },
      "source": [
        "# 'data' (the attribute) means the input data\n",
        "data.data.shape"
      ],
      "execution_count": 24,
      "outputs": [
        {
          "output_type": "execute_result",
          "data": {
            "text/plain": [
              "(569, 30)"
            ]
          },
          "metadata": {
            "tags": []
          },
          "execution_count": 24
        }
      ]
    },
    {
      "cell_type": "code",
      "metadata": {
        "id": "SEre664RcXUi",
        "colab_type": "code",
        "colab": {
          "base_uri": "https://localhost:8080/",
          "height": 485
        },
        "outputId": "ffd677f2-720d-4f18-8fd7-4840e8bdc5bb"
      },
      "source": [
        "# 'targets'\n",
        "data.target"
      ],
      "execution_count": 25,
      "outputs": [
        {
          "output_type": "execute_result",
          "data": {
            "text/plain": [
              "array([0, 0, 0, 0, 0, 0, 0, 0, 0, 0, 0, 0, 0, 0, 0, 0, 0, 0, 0, 1, 1, 1,\n",
              "       0, 0, 0, 0, 0, 0, 0, 0, 0, 0, 0, 0, 0, 0, 0, 1, 0, 0, 0, 0, 0, 0,\n",
              "       0, 0, 1, 0, 1, 1, 1, 1, 1, 0, 0, 1, 0, 0, 1, 1, 1, 1, 0, 1, 0, 0,\n",
              "       1, 1, 1, 1, 0, 1, 0, 0, 1, 0, 1, 0, 0, 1, 1, 1, 0, 0, 1, 0, 0, 0,\n",
              "       1, 1, 1, 0, 1, 1, 0, 0, 1, 1, 1, 0, 0, 1, 1, 1, 1, 0, 1, 1, 0, 1,\n",
              "       1, 1, 1, 1, 1, 1, 1, 0, 0, 0, 1, 0, 0, 1, 1, 1, 0, 0, 1, 0, 1, 0,\n",
              "       0, 1, 0, 0, 1, 1, 0, 1, 1, 0, 1, 1, 1, 1, 0, 1, 1, 1, 1, 1, 1, 1,\n",
              "       1, 1, 0, 1, 1, 1, 1, 0, 0, 1, 0, 1, 1, 0, 0, 1, 1, 0, 0, 1, 1, 1,\n",
              "       1, 0, 1, 1, 0, 0, 0, 1, 0, 1, 0, 1, 1, 1, 0, 1, 1, 0, 0, 1, 0, 0,\n",
              "       0, 0, 1, 0, 0, 0, 1, 0, 1, 0, 1, 1, 0, 1, 0, 0, 0, 0, 1, 1, 0, 0,\n",
              "       1, 1, 1, 0, 1, 1, 1, 1, 1, 0, 0, 1, 1, 0, 1, 1, 0, 0, 1, 0, 1, 1,\n",
              "       1, 1, 0, 1, 1, 1, 1, 1, 0, 1, 0, 0, 0, 0, 0, 0, 0, 0, 0, 0, 0, 0,\n",
              "       0, 0, 1, 1, 1, 1, 1, 1, 0, 1, 0, 1, 1, 0, 1, 1, 0, 1, 0, 0, 1, 1,\n",
              "       1, 1, 1, 1, 1, 1, 1, 1, 1, 1, 1, 0, 1, 1, 0, 1, 0, 1, 1, 1, 1, 1,\n",
              "       1, 1, 1, 1, 1, 1, 1, 1, 1, 0, 1, 1, 1, 0, 1, 0, 1, 1, 1, 1, 0, 0,\n",
              "       0, 1, 1, 1, 1, 0, 1, 0, 1, 0, 1, 1, 1, 0, 1, 1, 1, 1, 1, 1, 1, 0,\n",
              "       0, 0, 1, 1, 1, 1, 1, 1, 1, 1, 1, 1, 1, 0, 0, 1, 0, 0, 0, 1, 0, 0,\n",
              "       1, 1, 1, 1, 1, 0, 1, 1, 1, 1, 1, 0, 1, 1, 1, 0, 1, 1, 0, 0, 1, 1,\n",
              "       1, 1, 1, 1, 0, 1, 1, 1, 1, 1, 1, 1, 0, 1, 1, 1, 1, 1, 0, 1, 1, 0,\n",
              "       1, 1, 1, 1, 1, 1, 1, 1, 1, 1, 1, 1, 0, 1, 0, 0, 1, 0, 1, 1, 1, 1,\n",
              "       1, 0, 1, 1, 0, 1, 0, 1, 1, 0, 1, 0, 1, 1, 1, 1, 1, 1, 1, 1, 0, 0,\n",
              "       1, 1, 1, 1, 1, 1, 0, 1, 1, 1, 1, 1, 1, 1, 1, 1, 1, 0, 1, 1, 1, 1,\n",
              "       1, 1, 1, 0, 1, 0, 1, 1, 0, 1, 1, 1, 1, 1, 0, 0, 1, 0, 1, 0, 1, 1,\n",
              "       1, 1, 1, 0, 1, 1, 0, 1, 0, 1, 0, 0, 1, 1, 1, 0, 1, 1, 1, 1, 1, 1,\n",
              "       1, 1, 1, 1, 1, 0, 1, 0, 0, 1, 1, 1, 1, 1, 1, 1, 1, 1, 1, 1, 1, 1,\n",
              "       1, 1, 1, 1, 1, 1, 1, 1, 1, 1, 1, 1, 0, 0, 0, 0, 0, 0, 1])"
            ]
          },
          "metadata": {
            "tags": []
          },
          "execution_count": 25
        }
      ]
    },
    {
      "cell_type": "code",
      "metadata": {
        "id": "5cFOATBxceDS",
        "colab_type": "code",
        "colab": {
          "base_uri": "https://localhost:8080/",
          "height": 35
        },
        "outputId": "07d70191-b523-41bb-93f5-bdf9cc34cd7a"
      },
      "source": [
        "data.target_names"
      ],
      "execution_count": 26,
      "outputs": [
        {
          "output_type": "execute_result",
          "data": {
            "text/plain": [
              "array(['malignant', 'benign'], dtype='<U9')"
            ]
          },
          "metadata": {
            "tags": []
          },
          "execution_count": 26
        }
      ]
    },
    {
      "cell_type": "code",
      "metadata": {
        "id": "F8A8FH4jcg5S",
        "colab_type": "code",
        "colab": {
          "base_uri": "https://localhost:8080/",
          "height": 35
        },
        "outputId": "34a969ce-0d79-4e38-8159-c819a258c30d"
      },
      "source": [
        "data.target.shape"
      ],
      "execution_count": 27,
      "outputs": [
        {
          "output_type": "execute_result",
          "data": {
            "text/plain": [
              "(569,)"
            ]
          },
          "metadata": {
            "tags": []
          },
          "execution_count": 27
        }
      ]
    },
    {
      "cell_type": "code",
      "metadata": {
        "id": "9fOZf4f5ckB-",
        "colab_type": "code",
        "colab": {
          "base_uri": "https://localhost:8080/",
          "height": 197
        },
        "outputId": "22cf20b9-096a-4dcb-a66c-49ec66087937"
      },
      "source": [
        "data.feature_names"
      ],
      "execution_count": 28,
      "outputs": [
        {
          "output_type": "execute_result",
          "data": {
            "text/plain": [
              "array(['mean radius', 'mean texture', 'mean perimeter', 'mean area',\n",
              "       'mean smoothness', 'mean compactness', 'mean concavity',\n",
              "       'mean concave points', 'mean symmetry', 'mean fractal dimension',\n",
              "       'radius error', 'texture error', 'perimeter error', 'area error',\n",
              "       'smoothness error', 'compactness error', 'concavity error',\n",
              "       'concave points error', 'symmetry error',\n",
              "       'fractal dimension error', 'worst radius', 'worst texture',\n",
              "       'worst perimeter', 'worst area', 'worst smoothness',\n",
              "       'worst compactness', 'worst concavity', 'worst concave points',\n",
              "       'worst symmetry', 'worst fractal dimension'], dtype='<U23')"
            ]
          },
          "metadata": {
            "tags": []
          },
          "execution_count": 28
        }
      ]
    },
    {
      "cell_type": "code",
      "metadata": {
        "id": "zjOWjOKHcl6P",
        "colab_type": "code",
        "colab": {}
      },
      "source": [
        "# normally we would put all of our imports at the top\n",
        "# but this lets us tell a story\n",
        "\n",
        "from sklearn.model_selection import train_test_split\n",
        "\n",
        "# split the data into train and test sets\n",
        "# this lets us simulate how our model will perform in the future\n",
        "\n",
        "X_train, X_test, y_train, y_test = train_test_split(data.data, data.target, test_size  = 0.33)\n",
        "\n",
        "N,D = X_train.shape"
      ],
      "execution_count": 29,
      "outputs": []
    },
    {
      "cell_type": "code",
      "metadata": {
        "id": "mvSzTuSVdX_U",
        "colab_type": "code",
        "colab": {}
      },
      "source": [
        "# Scale the data\n",
        "# you'll learn why scaling is needed in a later course (the main idea is that you want to normalize everything so it operates in the same numerical range) x = (x-\\mu) / sigma\n",
        "from sklearn.preprocessing import StandardScaler\n",
        "\n",
        "scaler = StandardScaler()\n",
        "X_train = scaler.fit_transform(X_train)\n",
        "X_test = scaler.transform(X_test)"
      ],
      "execution_count": 30,
      "outputs": []
    },
    {
      "cell_type": "code",
      "metadata": {
        "id": "PZqTKY4rdYr8",
        "colab_type": "code",
        "colab": {
          "base_uri": "https://localhost:8080/",
          "height": 1000
        },
        "outputId": "c5ada2ff-6501-405b-f669-53400859dc61"
      },
      "source": [
        "# Now all the TensorFlow stuff\n",
        "# We start with building a model\n",
        "\n",
        "model = tf.keras.models.Sequential([\n",
        "                                    tf.keras.layers.Input(shape = (D,)),\n",
        "                                    tf.keras.layers.Dense(1, activation = 'sigmoid')\n",
        "])\n",
        "\n",
        "# Alternatively, we can do:\n",
        "#model = tf.keras.models.Sequential()\n",
        "#model.add(tf.keras.layers.Dense(1, input_shape = (D,), activation = 'sigmoid))\n",
        "\n",
        "model.compile(optimizer='adam',\n",
        "              loss = 'binary_crossentropy',\n",
        "              metrics = ['accuracy'])\n",
        "\n",
        "# Training the model\n",
        "r = model.fit(X_train, y_train, validation_data = (X_test, y_test), epochs = 100 )\n",
        "\n",
        "# Evaluating the model - evaluate() returns loss and accuracy\n",
        "print ('Train score: ', model.evaluate(X_train, y_train))\n",
        "print ('Test score: ', model.evaluate(X_test, y_test))"
      ],
      "execution_count": 31,
      "outputs": [
        {
          "output_type": "stream",
          "text": [
            "Epoch 1/100\n",
            "WARNING:tensorflow:AutoGraph could not transform <function Model.make_train_function.<locals>.train_function at 0x7f0053ae9840> and will run it as-is.\n",
            "Please report this to the TensorFlow team. When filing the bug, set the verbosity to 10 (on Linux, `export AUTOGRAPH_VERBOSITY=10`) and attach the full output.\n",
            "Cause: Bad argument number for Name: 4, expecting 3\n",
            "To silence this warning, decorate the function with @tf.autograph.experimental.do_not_convert\n",
            "WARNING: AutoGraph could not transform <function Model.make_train_function.<locals>.train_function at 0x7f0053ae9840> and will run it as-is.\n",
            "Please report this to the TensorFlow team. When filing the bug, set the verbosity to 10 (on Linux, `export AUTOGRAPH_VERBOSITY=10`) and attach the full output.\n",
            "Cause: Bad argument number for Name: 4, expecting 3\n",
            "To silence this warning, decorate the function with @tf.autograph.experimental.do_not_convert\n",
            " 1/12 [=>............................] - ETA: 0s - loss: 0.4484 - accuracy: 0.9062WARNING:tensorflow:AutoGraph could not transform <function Model.make_test_function.<locals>.test_function at 0x7f00536578c8> and will run it as-is.\n",
            "Please report this to the TensorFlow team. When filing the bug, set the verbosity to 10 (on Linux, `export AUTOGRAPH_VERBOSITY=10`) and attach the full output.\n",
            "Cause: Bad argument number for Name: 4, expecting 3\n",
            "To silence this warning, decorate the function with @tf.autograph.experimental.do_not_convert\n",
            "WARNING: AutoGraph could not transform <function Model.make_test_function.<locals>.test_function at 0x7f00536578c8> and will run it as-is.\n",
            "Please report this to the TensorFlow team. When filing the bug, set the verbosity to 10 (on Linux, `export AUTOGRAPH_VERBOSITY=10`) and attach the full output.\n",
            "Cause: Bad argument number for Name: 4, expecting 3\n",
            "To silence this warning, decorate the function with @tf.autograph.experimental.do_not_convert\n",
            "12/12 [==============================] - 0s 11ms/step - loss: 0.5139 - accuracy: 0.7585 - val_loss: 0.4347 - val_accuracy: 0.8138\n",
            "Epoch 2/100\n",
            "12/12 [==============================] - 0s 4ms/step - loss: 0.4654 - accuracy: 0.7979 - val_loss: 0.3927 - val_accuracy: 0.8511\n",
            "Epoch 3/100\n",
            "12/12 [==============================] - 0s 4ms/step - loss: 0.4242 - accuracy: 0.8215 - val_loss: 0.3586 - val_accuracy: 0.8830\n",
            "Epoch 4/100\n",
            "12/12 [==============================] - 0s 5ms/step - loss: 0.3900 - accuracy: 0.8556 - val_loss: 0.3304 - val_accuracy: 0.9043\n",
            "Epoch 5/100\n",
            "12/12 [==============================] - 0s 5ms/step - loss: 0.3617 - accuracy: 0.8819 - val_loss: 0.3063 - val_accuracy: 0.9149\n",
            "Epoch 6/100\n",
            "12/12 [==============================] - 0s 5ms/step - loss: 0.3377 - accuracy: 0.8950 - val_loss: 0.2869 - val_accuracy: 0.9202\n",
            "Epoch 7/100\n",
            "12/12 [==============================] - 0s 4ms/step - loss: 0.3166 - accuracy: 0.9081 - val_loss: 0.2707 - val_accuracy: 0.9255\n",
            "Epoch 8/100\n",
            "12/12 [==============================] - 0s 5ms/step - loss: 0.2993 - accuracy: 0.9186 - val_loss: 0.2565 - val_accuracy: 0.9255\n",
            "Epoch 9/100\n",
            "12/12 [==============================] - 0s 4ms/step - loss: 0.2834 - accuracy: 0.9344 - val_loss: 0.2447 - val_accuracy: 0.9309\n",
            "Epoch 10/100\n",
            "12/12 [==============================] - 0s 5ms/step - loss: 0.2697 - accuracy: 0.9475 - val_loss: 0.2337 - val_accuracy: 0.9362\n",
            "Epoch 11/100\n",
            "12/12 [==============================] - 0s 4ms/step - loss: 0.2572 - accuracy: 0.9501 - val_loss: 0.2247 - val_accuracy: 0.9362\n",
            "Epoch 12/100\n",
            "12/12 [==============================] - 0s 5ms/step - loss: 0.2460 - accuracy: 0.9528 - val_loss: 0.2164 - val_accuracy: 0.9415\n",
            "Epoch 13/100\n",
            "12/12 [==============================] - 0s 4ms/step - loss: 0.2362 - accuracy: 0.9528 - val_loss: 0.2091 - val_accuracy: 0.9415\n",
            "Epoch 14/100\n",
            "12/12 [==============================] - 0s 4ms/step - loss: 0.2270 - accuracy: 0.9528 - val_loss: 0.2023 - val_accuracy: 0.9415\n",
            "Epoch 15/100\n",
            "12/12 [==============================] - 0s 4ms/step - loss: 0.2188 - accuracy: 0.9528 - val_loss: 0.1963 - val_accuracy: 0.9415\n",
            "Epoch 16/100\n",
            "12/12 [==============================] - 0s 5ms/step - loss: 0.2112 - accuracy: 0.9554 - val_loss: 0.1909 - val_accuracy: 0.9415\n",
            "Epoch 17/100\n",
            "12/12 [==============================] - 0s 4ms/step - loss: 0.2042 - accuracy: 0.9580 - val_loss: 0.1858 - val_accuracy: 0.9468\n",
            "Epoch 18/100\n",
            "12/12 [==============================] - 0s 5ms/step - loss: 0.1979 - accuracy: 0.9606 - val_loss: 0.1811 - val_accuracy: 0.9468\n",
            "Epoch 19/100\n",
            "12/12 [==============================] - 0s 4ms/step - loss: 0.1919 - accuracy: 0.9633 - val_loss: 0.1770 - val_accuracy: 0.9521\n",
            "Epoch 20/100\n",
            "12/12 [==============================] - 0s 5ms/step - loss: 0.1864 - accuracy: 0.9633 - val_loss: 0.1732 - val_accuracy: 0.9521\n",
            "Epoch 21/100\n",
            "12/12 [==============================] - 0s 5ms/step - loss: 0.1814 - accuracy: 0.9606 - val_loss: 0.1694 - val_accuracy: 0.9574\n",
            "Epoch 22/100\n",
            "12/12 [==============================] - 0s 5ms/step - loss: 0.1765 - accuracy: 0.9606 - val_loss: 0.1661 - val_accuracy: 0.9574\n",
            "Epoch 23/100\n",
            "12/12 [==============================] - 0s 5ms/step - loss: 0.1723 - accuracy: 0.9606 - val_loss: 0.1628 - val_accuracy: 0.9574\n",
            "Epoch 24/100\n",
            "12/12 [==============================] - 0s 4ms/step - loss: 0.1681 - accuracy: 0.9606 - val_loss: 0.1600 - val_accuracy: 0.9574\n",
            "Epoch 25/100\n",
            "12/12 [==============================] - 0s 4ms/step - loss: 0.1642 - accuracy: 0.9633 - val_loss: 0.1574 - val_accuracy: 0.9574\n",
            "Epoch 26/100\n",
            "12/12 [==============================] - 0s 4ms/step - loss: 0.1607 - accuracy: 0.9659 - val_loss: 0.1548 - val_accuracy: 0.9574\n",
            "Epoch 27/100\n",
            "12/12 [==============================] - 0s 4ms/step - loss: 0.1571 - accuracy: 0.9659 - val_loss: 0.1522 - val_accuracy: 0.9574\n",
            "Epoch 28/100\n",
            "12/12 [==============================] - 0s 4ms/step - loss: 0.1539 - accuracy: 0.9659 - val_loss: 0.1500 - val_accuracy: 0.9574\n",
            "Epoch 29/100\n",
            "12/12 [==============================] - 0s 5ms/step - loss: 0.1509 - accuracy: 0.9659 - val_loss: 0.1479 - val_accuracy: 0.9574\n",
            "Epoch 30/100\n",
            "12/12 [==============================] - 0s 4ms/step - loss: 0.1480 - accuracy: 0.9659 - val_loss: 0.1458 - val_accuracy: 0.9574\n",
            "Epoch 31/100\n",
            "12/12 [==============================] - 0s 4ms/step - loss: 0.1453 - accuracy: 0.9659 - val_loss: 0.1440 - val_accuracy: 0.9574\n",
            "Epoch 32/100\n",
            "12/12 [==============================] - 0s 4ms/step - loss: 0.1427 - accuracy: 0.9659 - val_loss: 0.1422 - val_accuracy: 0.9574\n",
            "Epoch 33/100\n",
            "12/12 [==============================] - 0s 5ms/step - loss: 0.1402 - accuracy: 0.9659 - val_loss: 0.1404 - val_accuracy: 0.9574\n",
            "Epoch 34/100\n",
            "12/12 [==============================] - 0s 4ms/step - loss: 0.1380 - accuracy: 0.9659 - val_loss: 0.1385 - val_accuracy: 0.9574\n",
            "Epoch 35/100\n",
            "12/12 [==============================] - 0s 4ms/step - loss: 0.1357 - accuracy: 0.9659 - val_loss: 0.1370 - val_accuracy: 0.9574\n",
            "Epoch 36/100\n",
            "12/12 [==============================] - 0s 4ms/step - loss: 0.1336 - accuracy: 0.9659 - val_loss: 0.1355 - val_accuracy: 0.9574\n",
            "Epoch 37/100\n",
            "12/12 [==============================] - 0s 5ms/step - loss: 0.1315 - accuracy: 0.9659 - val_loss: 0.1341 - val_accuracy: 0.9574\n",
            "Epoch 38/100\n",
            "12/12 [==============================] - 0s 6ms/step - loss: 0.1297 - accuracy: 0.9659 - val_loss: 0.1328 - val_accuracy: 0.9574\n",
            "Epoch 39/100\n",
            "12/12 [==============================] - 0s 15ms/step - loss: 0.1278 - accuracy: 0.9685 - val_loss: 0.1315 - val_accuracy: 0.9628\n",
            "Epoch 40/100\n",
            "12/12 [==============================] - 0s 4ms/step - loss: 0.1261 - accuracy: 0.9685 - val_loss: 0.1301 - val_accuracy: 0.9628\n",
            "Epoch 41/100\n",
            "12/12 [==============================] - 0s 4ms/step - loss: 0.1244 - accuracy: 0.9685 - val_loss: 0.1290 - val_accuracy: 0.9628\n",
            "Epoch 42/100\n",
            "12/12 [==============================] - 0s 4ms/step - loss: 0.1228 - accuracy: 0.9685 - val_loss: 0.1278 - val_accuracy: 0.9628\n",
            "Epoch 43/100\n",
            "12/12 [==============================] - 0s 4ms/step - loss: 0.1212 - accuracy: 0.9685 - val_loss: 0.1267 - val_accuracy: 0.9628\n",
            "Epoch 44/100\n",
            "12/12 [==============================] - 0s 4ms/step - loss: 0.1198 - accuracy: 0.9685 - val_loss: 0.1257 - val_accuracy: 0.9628\n",
            "Epoch 45/100\n",
            "12/12 [==============================] - 0s 4ms/step - loss: 0.1183 - accuracy: 0.9685 - val_loss: 0.1246 - val_accuracy: 0.9574\n",
            "Epoch 46/100\n",
            "12/12 [==============================] - 0s 4ms/step - loss: 0.1170 - accuracy: 0.9685 - val_loss: 0.1237 - val_accuracy: 0.9574\n",
            "Epoch 47/100\n",
            "12/12 [==============================] - 0s 4ms/step - loss: 0.1157 - accuracy: 0.9685 - val_loss: 0.1226 - val_accuracy: 0.9574\n",
            "Epoch 48/100\n",
            "12/12 [==============================] - 0s 5ms/step - loss: 0.1144 - accuracy: 0.9685 - val_loss: 0.1217 - val_accuracy: 0.9574\n",
            "Epoch 49/100\n",
            "12/12 [==============================] - 0s 4ms/step - loss: 0.1131 - accuracy: 0.9711 - val_loss: 0.1209 - val_accuracy: 0.9574\n",
            "Epoch 50/100\n",
            "12/12 [==============================] - 0s 5ms/step - loss: 0.1119 - accuracy: 0.9711 - val_loss: 0.1200 - val_accuracy: 0.9574\n",
            "Epoch 51/100\n",
            "12/12 [==============================] - 0s 4ms/step - loss: 0.1108 - accuracy: 0.9711 - val_loss: 0.1191 - val_accuracy: 0.9574\n",
            "Epoch 52/100\n",
            "12/12 [==============================] - 0s 5ms/step - loss: 0.1097 - accuracy: 0.9711 - val_loss: 0.1183 - val_accuracy: 0.9574\n",
            "Epoch 53/100\n",
            "12/12 [==============================] - 0s 5ms/step - loss: 0.1086 - accuracy: 0.9711 - val_loss: 0.1176 - val_accuracy: 0.9521\n",
            "Epoch 54/100\n",
            "12/12 [==============================] - 0s 5ms/step - loss: 0.1076 - accuracy: 0.9711 - val_loss: 0.1168 - val_accuracy: 0.9521\n",
            "Epoch 55/100\n",
            "12/12 [==============================] - 0s 5ms/step - loss: 0.1066 - accuracy: 0.9711 - val_loss: 0.1161 - val_accuracy: 0.9521\n",
            "Epoch 56/100\n",
            "12/12 [==============================] - 0s 5ms/step - loss: 0.1056 - accuracy: 0.9711 - val_loss: 0.1153 - val_accuracy: 0.9521\n",
            "Epoch 57/100\n",
            "12/12 [==============================] - 0s 5ms/step - loss: 0.1047 - accuracy: 0.9711 - val_loss: 0.1146 - val_accuracy: 0.9521\n",
            "Epoch 58/100\n",
            "12/12 [==============================] - 0s 5ms/step - loss: 0.1037 - accuracy: 0.9711 - val_loss: 0.1140 - val_accuracy: 0.9521\n",
            "Epoch 59/100\n",
            "12/12 [==============================] - 0s 5ms/step - loss: 0.1028 - accuracy: 0.9711 - val_loss: 0.1134 - val_accuracy: 0.9521\n",
            "Epoch 60/100\n",
            "12/12 [==============================] - 0s 4ms/step - loss: 0.1020 - accuracy: 0.9711 - val_loss: 0.1128 - val_accuracy: 0.9521\n",
            "Epoch 61/100\n",
            "12/12 [==============================] - 0s 4ms/step - loss: 0.1012 - accuracy: 0.9711 - val_loss: 0.1121 - val_accuracy: 0.9521\n",
            "Epoch 62/100\n",
            "12/12 [==============================] - 0s 4ms/step - loss: 0.1004 - accuracy: 0.9711 - val_loss: 0.1116 - val_accuracy: 0.9521\n",
            "Epoch 63/100\n",
            "12/12 [==============================] - 0s 5ms/step - loss: 0.0996 - accuracy: 0.9711 - val_loss: 0.1109 - val_accuracy: 0.9521\n",
            "Epoch 64/100\n",
            "12/12 [==============================] - 0s 4ms/step - loss: 0.0988 - accuracy: 0.9711 - val_loss: 0.1104 - val_accuracy: 0.9521\n",
            "Epoch 65/100\n",
            "12/12 [==============================] - 0s 4ms/step - loss: 0.0981 - accuracy: 0.9711 - val_loss: 0.1099 - val_accuracy: 0.9521\n",
            "Epoch 66/100\n",
            "12/12 [==============================] - 0s 6ms/step - loss: 0.0973 - accuracy: 0.9711 - val_loss: 0.1094 - val_accuracy: 0.9521\n",
            "Epoch 67/100\n",
            "12/12 [==============================] - 0s 4ms/step - loss: 0.0966 - accuracy: 0.9711 - val_loss: 0.1088 - val_accuracy: 0.9521\n",
            "Epoch 68/100\n",
            "12/12 [==============================] - 0s 4ms/step - loss: 0.0960 - accuracy: 0.9711 - val_loss: 0.1083 - val_accuracy: 0.9521\n",
            "Epoch 69/100\n",
            "12/12 [==============================] - 0s 4ms/step - loss: 0.0952 - accuracy: 0.9711 - val_loss: 0.1078 - val_accuracy: 0.9521\n",
            "Epoch 70/100\n",
            "12/12 [==============================] - 0s 5ms/step - loss: 0.0946 - accuracy: 0.9711 - val_loss: 0.1074 - val_accuracy: 0.9521\n",
            "Epoch 71/100\n",
            "12/12 [==============================] - 0s 5ms/step - loss: 0.0940 - accuracy: 0.9711 - val_loss: 0.1069 - val_accuracy: 0.9521\n",
            "Epoch 72/100\n",
            "12/12 [==============================] - 0s 4ms/step - loss: 0.0933 - accuracy: 0.9711 - val_loss: 0.1064 - val_accuracy: 0.9521\n",
            "Epoch 73/100\n",
            "12/12 [==============================] - 0s 5ms/step - loss: 0.0928 - accuracy: 0.9711 - val_loss: 0.1060 - val_accuracy: 0.9521\n",
            "Epoch 74/100\n",
            "12/12 [==============================] - 0s 4ms/step - loss: 0.0921 - accuracy: 0.9711 - val_loss: 0.1056 - val_accuracy: 0.9521\n",
            "Epoch 75/100\n",
            "12/12 [==============================] - 0s 5ms/step - loss: 0.0916 - accuracy: 0.9711 - val_loss: 0.1052 - val_accuracy: 0.9521\n",
            "Epoch 76/100\n",
            "12/12 [==============================] - 0s 5ms/step - loss: 0.0910 - accuracy: 0.9711 - val_loss: 0.1047 - val_accuracy: 0.9521\n",
            "Epoch 77/100\n",
            "12/12 [==============================] - 0s 4ms/step - loss: 0.0905 - accuracy: 0.9711 - val_loss: 0.1042 - val_accuracy: 0.9521\n",
            "Epoch 78/100\n",
            "12/12 [==============================] - 0s 4ms/step - loss: 0.0899 - accuracy: 0.9711 - val_loss: 0.1039 - val_accuracy: 0.9521\n",
            "Epoch 79/100\n",
            "12/12 [==============================] - 0s 4ms/step - loss: 0.0894 - accuracy: 0.9711 - val_loss: 0.1035 - val_accuracy: 0.9521\n",
            "Epoch 80/100\n",
            "12/12 [==============================] - 0s 4ms/step - loss: 0.0889 - accuracy: 0.9711 - val_loss: 0.1032 - val_accuracy: 0.9521\n",
            "Epoch 81/100\n",
            "12/12 [==============================] - 0s 5ms/step - loss: 0.0884 - accuracy: 0.9738 - val_loss: 0.1028 - val_accuracy: 0.9521\n",
            "Epoch 82/100\n",
            "12/12 [==============================] - 0s 5ms/step - loss: 0.0879 - accuracy: 0.9738 - val_loss: 0.1024 - val_accuracy: 0.9521\n",
            "Epoch 83/100\n",
            "12/12 [==============================] - 0s 5ms/step - loss: 0.0874 - accuracy: 0.9738 - val_loss: 0.1021 - val_accuracy: 0.9521\n",
            "Epoch 84/100\n",
            "12/12 [==============================] - 0s 4ms/step - loss: 0.0870 - accuracy: 0.9738 - val_loss: 0.1018 - val_accuracy: 0.9521\n",
            "Epoch 85/100\n",
            "12/12 [==============================] - 0s 5ms/step - loss: 0.0865 - accuracy: 0.9738 - val_loss: 0.1014 - val_accuracy: 0.9521\n",
            "Epoch 86/100\n",
            "12/12 [==============================] - 0s 4ms/step - loss: 0.0860 - accuracy: 0.9738 - val_loss: 0.1011 - val_accuracy: 0.9521\n",
            "Epoch 87/100\n",
            "12/12 [==============================] - 0s 5ms/step - loss: 0.0856 - accuracy: 0.9738 - val_loss: 0.1007 - val_accuracy: 0.9521\n",
            "Epoch 88/100\n",
            "12/12 [==============================] - 0s 5ms/step - loss: 0.0852 - accuracy: 0.9764 - val_loss: 0.1004 - val_accuracy: 0.9521\n",
            "Epoch 89/100\n",
            "12/12 [==============================] - 0s 5ms/step - loss: 0.0848 - accuracy: 0.9764 - val_loss: 0.1001 - val_accuracy: 0.9521\n",
            "Epoch 90/100\n",
            "12/12 [==============================] - 0s 4ms/step - loss: 0.0843 - accuracy: 0.9764 - val_loss: 0.0998 - val_accuracy: 0.9521\n",
            "Epoch 91/100\n",
            "12/12 [==============================] - 0s 5ms/step - loss: 0.0839 - accuracy: 0.9764 - val_loss: 0.0995 - val_accuracy: 0.9521\n",
            "Epoch 92/100\n",
            "12/12 [==============================] - 0s 5ms/step - loss: 0.0835 - accuracy: 0.9764 - val_loss: 0.0992 - val_accuracy: 0.9521\n",
            "Epoch 93/100\n",
            "12/12 [==============================] - 0s 4ms/step - loss: 0.0831 - accuracy: 0.9764 - val_loss: 0.0989 - val_accuracy: 0.9521\n",
            "Epoch 94/100\n",
            "12/12 [==============================] - 0s 5ms/step - loss: 0.0827 - accuracy: 0.9764 - val_loss: 0.0986 - val_accuracy: 0.9521\n",
            "Epoch 95/100\n",
            "12/12 [==============================] - 0s 4ms/step - loss: 0.0823 - accuracy: 0.9764 - val_loss: 0.0983 - val_accuracy: 0.9521\n",
            "Epoch 96/100\n",
            "12/12 [==============================] - 0s 5ms/step - loss: 0.0820 - accuracy: 0.9790 - val_loss: 0.0981 - val_accuracy: 0.9521\n",
            "Epoch 97/100\n",
            "12/12 [==============================] - 0s 5ms/step - loss: 0.0816 - accuracy: 0.9790 - val_loss: 0.0978 - val_accuracy: 0.9521\n",
            "Epoch 98/100\n",
            "12/12 [==============================] - 0s 4ms/step - loss: 0.0813 - accuracy: 0.9816 - val_loss: 0.0975 - val_accuracy: 0.9574\n",
            "Epoch 99/100\n",
            "12/12 [==============================] - 0s 4ms/step - loss: 0.0809 - accuracy: 0.9843 - val_loss: 0.0973 - val_accuracy: 0.9574\n",
            "Epoch 100/100\n",
            "12/12 [==============================] - 0s 4ms/step - loss: 0.0806 - accuracy: 0.9843 - val_loss: 0.0970 - val_accuracy: 0.9574\n",
            "12/12 [==============================] - 0s 1ms/step - loss: 0.0803 - accuracy: 0.9843\n",
            "Train score:  [0.08034517616033554, 0.9842519760131836]\n",
            "6/6 [==============================] - 0s 2ms/step - loss: 0.0970 - accuracy: 0.9574\n",
            "Test score:  [0.09697522222995758, 0.957446813583374]\n"
          ],
          "name": "stdout"
        }
      ]
    },
    {
      "cell_type": "code",
      "metadata": {
        "id": "hEt44Qs1eqEb",
        "colab_type": "code",
        "colab": {
          "base_uri": "https://localhost:8080/",
          "height": 283
        },
        "outputId": "c401a0e7-d055-4acd-e53b-9045fcaa2e81"
      },
      "source": [
        "# Plot what's returned by model.fit()\n",
        "\n",
        "plt.plot(r.history['loss'], label = 'loss')\n",
        "plt.plot(r.history['val_loss'], label = 'val_loss')\n",
        "plt.legend()"
      ],
      "execution_count": 32,
      "outputs": [
        {
          "output_type": "execute_result",
          "data": {
            "text/plain": [
              "<matplotlib.legend.Legend at 0x7f0052a17198>"
            ]
          },
          "metadata": {
            "tags": []
          },
          "execution_count": 32
        },
        {
          "output_type": "display_data",
          "data": {
            "image/png": "[encoded data removed]",
            "text/plain": [
              "<Figure size 432x288 with 1 Axes>"
            ]
          },
          "metadata": {
            "tags": [],
            "needs_background": "light"
          }
        }
      ]
    },
    {
      "cell_type": "code",
      "metadata": {
        "id": "j3cEma6JgXUW",
        "colab_type": "code",
        "colab": {
          "base_uri": "https://localhost:8080/",
          "height": 283
        },
        "outputId": "50e485ce-d086-4df1-9896-0bd7df73550a"
      },
      "source": [
        "# Plot accuracy\n",
        "\n",
        "plt.plot(r.history['accuracy'], label = 'accuracy')\n",
        "plt.plot(r.history['val_accuracy'], label = 'val_acc')\n",
        "plt.legend()"
      ],
      "execution_count": 33,
      "outputs": [
        {
          "output_type": "execute_result",
          "data": {
            "text/plain": [
              "<matplotlib.legend.Legend at 0x7f005436e390>"
            ]
          },
          "metadata": {
            "tags": []
          },
          "execution_count": 33
        },
        {
          "output_type": "display_data",
          "data": {
            "image/png": "[encoded data removed]",
            "text/plain": [
              "<Figure size 432x288 with 1 Axes>"
            ]
          },
          "metadata": {
            "tags": [],
            "needs_background": "light"
          }
        }
      ]
    },
    {
      "cell_type": "markdown",
      "metadata": {
        "id": "5U1L5ctEIyVI",
        "colab_type": "text"
      },
      "source": [
        "Part:2 Making Predictions"
      ]
    },
    {
      "cell_type": "code",
      "metadata": {
        "id": "5lzWecNWg1ys",
        "colab_type": "code",
        "colab": {
          "base_uri": "https://localhost:8080/",
          "height": 1000
        },
        "outputId": "76634e75-0c9c-4664-e986-b828a4f0f94e"
      },
      "source": [
        "# Make Prediction\n",
        "\n",
        "P = model.predict(X_test)\n",
        "\n",
        "print(P) # they are output of a sigmoid, interpreted as probabilities P(y=1|x)"
      ],
      "execution_count": 34,
      "outputs": [
        {
          "output_type": "stream",
          "text": [
            "WARNING:tensorflow:AutoGraph could not transform <function Model.make_predict_function.<locals>.predict_function at 0x7f00535572f0> and will run it as-is.\n",
            "Please report this to the TensorFlow team. When filing the bug, set the verbosity to 10 (on Linux, `export AUTOGRAPH_VERBOSITY=10`) and attach the full output.\n",
            "Cause: Bad argument number for Name: 4, expecting 3\n",
            "To silence this warning, decorate the function with @tf.autograph.experimental.do_not_convert\n",
            "WARNING: AutoGraph could not transform <function Model.make_predict_function.<locals>.predict_function at 0x7f00535572f0> and will run it as-is.\n",
            "Please report this to the TensorFlow team. When filing the bug, set the verbosity to 10 (on Linux, `export AUTOGRAPH_VERBOSITY=10`) and attach the full output.\n",
            "Cause: Bad argument number for Name: 4, expecting 3\n",
            "To silence this warning, decorate the function with @tf.autograph.experimental.do_not_convert\n",
            "[[9.8606479e-01]\n",
            " [4.1553378e-04]\n",
            " [9.6783161e-01]\n",
            " [4.8014820e-03]\n",
            " [2.4719320e-05]\n",
            " [8.3928209e-15]\n",
            " [9.6384680e-01]\n",
            " [1.2734532e-04]\n",
            " [9.8675942e-01]\n",
            " [2.9632151e-02]\n",
            " [9.6661973e-01]\n",
            " [9.9409521e-01]\n",
            " [3.5687476e-02]\n",
            " [2.7757883e-04]\n",
            " [9.9990493e-01]\n",
            " [9.9194896e-01]\n",
            " [3.2919715e-07]\n",
            " [7.6711899e-01]\n",
            " [2.8780401e-03]\n",
            " [9.9959242e-01]\n",
            " [9.4518757e-01]\n",
            " [1.4226094e-01]\n",
            " [9.9976742e-01]\n",
            " [9.6625912e-01]\n",
            " [9.6164656e-01]\n",
            " [6.8942887e-01]\n",
            " [5.0482551e-09]\n",
            " [3.5041571e-04]\n",
            " [8.0497897e-01]\n",
            " [9.9731517e-01]\n",
            " [3.5044894e-07]\n",
            " [3.3253431e-04]\n",
            " [5.3880006e-02]\n",
            " [2.3456103e-06]\n",
            " [9.3770683e-01]\n",
            " [5.3767830e-01]\n",
            " [9.9907702e-01]\n",
            " [9.9704444e-01]\n",
            " [2.9709997e-06]\n",
            " [4.9753177e-01]\n",
            " [4.4691677e-07]\n",
            " [7.0002137e-10]\n",
            " [9.9818480e-01]\n",
            " [6.9280034e-01]\n",
            " [4.3046474e-04]\n",
            " [9.9620163e-01]\n",
            " [9.9503428e-01]\n",
            " [5.8381021e-02]\n",
            " [2.7182698e-04]\n",
            " [5.6565547e-01]\n",
            " [9.9641800e-01]\n",
            " [9.9757820e-01]\n",
            " [9.7890395e-01]\n",
            " [2.9774308e-03]\n",
            " [1.5297897e-05]\n",
            " [9.9170685e-01]\n",
            " [6.1204135e-03]\n",
            " [4.2644143e-04]\n",
            " [9.8776597e-01]\n",
            " [1.3008714e-04]\n",
            " [9.9880940e-01]\n",
            " [9.4912612e-01]\n",
            " [9.8367500e-01]\n",
            " [9.4483674e-01]\n",
            " [4.9933791e-04]\n",
            " [9.4814456e-01]\n",
            " [8.0155776e-05]\n",
            " [8.9426637e-01]\n",
            " [9.9852800e-01]\n",
            " [9.1584492e-01]\n",
            " [9.9813074e-01]\n",
            " [9.9911362e-01]\n",
            " [1.3042390e-03]\n",
            " [1.1852682e-03]\n",
            " [9.8650908e-01]\n",
            " [8.7886852e-01]\n",
            " [9.9996209e-01]\n",
            " [8.8836658e-01]\n",
            " [4.2784423e-02]\n",
            " [9.8748374e-01]\n",
            " [9.9514222e-01]\n",
            " [9.9949878e-01]\n",
            " [4.2443731e-05]\n",
            " [9.9996519e-01]\n",
            " [9.8355275e-01]\n",
            " [9.9719512e-01]\n",
            " [7.2199404e-03]\n",
            " [9.6030211e-01]\n",
            " [1.0228632e-04]\n",
            " [5.2574307e-01]\n",
            " [8.9358628e-01]\n",
            " [8.3803189e-01]\n",
            " [2.7076006e-02]\n",
            " [9.9333537e-01]\n",
            " [6.5794215e-05]\n",
            " [6.8142724e-01]\n",
            " [9.8487294e-01]\n",
            " [9.9960661e-01]\n",
            " [9.9580908e-01]\n",
            " [3.7510666e-01]\n",
            " [9.9923742e-01]\n",
            " [3.3864982e-09]\n",
            " [9.9390626e-01]\n",
            " [9.9360669e-01]\n",
            " [9.4708359e-01]\n",
            " [9.9880010e-01]\n",
            " [9.9934995e-01]\n",
            " [9.9962789e-01]\n",
            " [9.7694945e-01]\n",
            " [1.9212067e-03]\n",
            " [7.7638352e-01]\n",
            " [7.9137087e-04]\n",
            " [6.0424674e-01]\n",
            " [8.7270558e-01]\n",
            " [9.9654138e-01]\n",
            " [1.8289596e-02]\n",
            " [4.1363882e-07]\n",
            " [2.3159426e-01]\n",
            " [9.7061980e-01]\n",
            " [9.8943299e-01]\n",
            " [9.9967033e-01]\n",
            " [9.8372388e-01]\n",
            " [9.9756068e-01]\n",
            " [9.9863195e-01]\n",
            " [7.6676810e-01]\n",
            " [2.6382446e-01]\n",
            " [9.4768173e-01]\n",
            " [1.5166402e-03]\n",
            " [9.6287680e-01]\n",
            " [9.9079078e-01]\n",
            " [9.8780245e-01]\n",
            " [3.3854604e-01]\n",
            " [3.3547282e-03]\n",
            " [9.0495712e-01]\n",
            " [5.1627934e-01]\n",
            " [8.5579622e-01]\n",
            " [3.3501074e-05]\n",
            " [4.7451751e-05]\n",
            " [1.8354356e-03]\n",
            " [9.9960315e-01]\n",
            " [2.9812932e-02]\n",
            " [6.2169760e-02]\n",
            " [9.9992496e-01]\n",
            " [1.8978211e-05]\n",
            " [9.8502791e-01]\n",
            " [2.6463456e-06]\n",
            " [9.9216390e-01]\n",
            " [7.8090763e-01]\n",
            " [9.9529612e-01]\n",
            " [5.3565478e-01]\n",
            " [5.9391856e-03]\n",
            " [2.2045106e-02]\n",
            " [9.9351352e-01]\n",
            " [9.6213448e-01]\n",
            " [9.9407274e-01]\n",
            " [9.9700284e-01]\n",
            " [9.6446347e-01]\n",
            " [6.3435082e-06]\n",
            " [6.8157744e-01]\n",
            " [9.0939617e-01]\n",
            " [9.9211001e-01]\n",
            " [3.7811687e-06]\n",
            " [9.9773175e-01]\n",
            " [1.9013882e-04]\n",
            " [9.9905622e-01]\n",
            " [9.9091923e-01]\n",
            " [9.9742800e-01]\n",
            " [2.2723377e-03]\n",
            " [8.8710845e-01]\n",
            " [9.9868941e-01]\n",
            " [3.4427643e-04]\n",
            " [6.6907120e-01]\n",
            " [9.9878502e-01]\n",
            " [9.8089600e-01]\n",
            " [4.8744202e-02]\n",
            " [3.4157693e-02]\n",
            " [1.2793839e-02]\n",
            " [4.1947541e-01]\n",
            " [1.2332976e-01]\n",
            " [9.8988283e-01]\n",
            " [9.9973404e-01]\n",
            " [1.3977103e-05]\n",
            " [9.9689484e-01]\n",
            " [9.9655092e-01]\n",
            " [2.4498519e-04]\n",
            " [4.6777754e-04]\n",
            " [9.9689096e-01]\n",
            " [8.7639654e-01]]\n"
          ],
          "name": "stdout"
        }
      ]
    },
    {
      "cell_type": "code",
      "metadata": {
        "id": "xHjlYtzFJDl6",
        "colab_type": "code",
        "colab": {
          "base_uri": "https://localhost:8080/",
          "height": 161
        },
        "outputId": "bf6c3437-a702-4015-bd15-91d9e9aa21ae"
      },
      "source": [
        "# round to get the actual predictions\n",
        "# Note: has to be flattened since the targets are size (N,) while the predictions are size (N,1)\n",
        "\n",
        "import numpy as np\n",
        "\n",
        "P = np.round(P).flatten()\n",
        "print(P)"
      ],
      "execution_count": 35,
      "outputs": [
        {
          "output_type": "stream",
          "text": [
            "[1. 0. 1. 0. 0. 0. 1. 0. 1. 0. 1. 1. 0. 0. 1. 1. 0. 1. 0. 1. 1. 0. 1. 1.\n",
            " 1. 1. 0. 0. 1. 1. 0. 0. 0. 0. 1. 1. 1. 1. 0. 0. 0. 0. 1. 1. 0. 1. 1. 0.\n",
            " 0. 1. 1. 1. 1. 0. 0. 1. 0. 0. 1. 0. 1. 1. 1. 1. 0. 1. 0. 1. 1. 1. 1. 1.\n",
            " 0. 0. 1. 1. 1. 1. 0. 1. 1. 1. 0. 1. 1. 1. 0. 1. 0. 1. 1. 1. 0. 1. 0. 1.\n",
            " 1. 1. 1. 0. 1. 0. 1. 1. 1. 1. 1. 1. 1. 0. 1. 0. 1. 1. 1. 0. 0. 0. 1. 1.\n",
            " 1. 1. 1. 1. 1. 0. 1. 0. 1. 1. 1. 0. 0. 1. 1. 1. 0. 0. 0. 1. 0. 0. 1. 0.\n",
            " 1. 0. 1. 1. 1. 1. 0. 0. 1. 1. 1. 1. 1. 0. 1. 1. 1. 0. 1. 0. 1. 1. 1. 0.\n",
            " 1. 1. 0. 1. 1. 1. 0. 0. 0. 0. 0. 1. 1. 0. 1. 1. 0. 0. 1. 1.]\n"
          ],
          "name": "stdout"
        }
      ]
    },
    {
      "cell_type": "code",
      "metadata": {
        "id": "kZKqwHhjKnED",
        "colab_type": "code",
        "colab": {
          "base_uri": "https://localhost:8080/",
          "height": 71
        },
        "outputId": "c0a3e748-c59c-46b3-9d55-f9c005f5a2ca"
      },
      "source": [
        "#Calculate the accuracy, compare it to evaluate() output\n",
        "\n",
        "print('Mannually calculated accuracy:' , np.mean(P == y_test))\n",
        "print('Evaluate output: ', model.evaluate(X_test, y_test))"
      ],
      "execution_count": 36,
      "outputs": [
        {
          "output_type": "stream",
          "text": [
            "Mannually calculated accuracy: 0.9574468085106383\n",
            "6/6 [==============================] - 0s 2ms/step - loss: 0.0970 - accuracy: 0.9574\n",
            "Evaluate output:  [0.09697522222995758, 0.957446813583374]\n"
          ],
          "name": "stdout"
        }
      ]
    },
    {
      "cell_type": "code",
      "metadata": {
        "id": "Bujb1IofLDSW",
        "colab_type": "code",
        "colab": {}
      },
      "source": [
        ""
      ],
      "execution_count": null,
      "outputs": []
    }
  ]
}