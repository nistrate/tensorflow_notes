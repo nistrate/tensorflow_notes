{
  "nbformat": 4,
  "nbformat_minor": 0,
  "metadata": {
    "colab": {
      "name": "Artificial Neural Networks.ipynb",
      "provenance": [],
      "collapsed_sections": [],
      "authorship_tag": "ABX9TyPwjaNIl+9n5qowqSZeq9Sj",
      "include_colab_link": true
    },
    "kernelspec": {
      "name": "python3",
      "display_name": "Python 3"
    }
  },
  "cells": [
    {
      "cell_type": "markdown",
      "metadata": {
        "id": "view-in-github",
        "colab_type": "text"
      },
      "source": [
        "<a href=\"https://colab.research.google.com/github/nistrate/tensorflow_notes/blob/master/Artificial_Neural_Networks.ipynb\" target=\"_parent\"><img src=\"https://colab.research.google.com/assets/colab-badge.svg\" alt=\"Open In Colab\"/></a>"
      ]
    },
    {
      "cell_type": "markdown",
      "metadata": {
        "id": "rl1w7NW3yEFm",
        "colab_type": "text"
      },
      "source": [
        "This section will introduce thw concept of a *feed forward neural network*.\n",
        "\n",
        "Such a network is the basisi for other kinds of more complex networks such as\n",
        "- Convolutional Neural Networks (CNNs)\n",
        "- Recurrent Neural Networks (RNNs)\n",
        "\n",
        "We are trying to createa neural network in a computer. The name derives from the brain neurons. An artificial neural network is trying to simulate a working brain, or more precise a collection of neurons with their chemical and electrical connectivity.\n",
        "\n",
        "A feed forward network is formed of multiple interconnected layers of neurons. The input is fed in the first layer, while the output comes out of the last layer.\n",
        "\n",
        "Section outline:\n",
        "- Model Architecture.\n",
        "  - How does a feedforward neural network work?\n",
        "  - What is its ``equation\"?\n",
        "- The geometric picture.\n",
        "  - How does this relate back to the ``machine learning is nothing but a geometry problem''?\n",
        "- Activation functions.\n",
        "  - These are what make neural network more powerful.\n",
        "- Multiclass clasification.\n",
        "  - Previously only discussed binary classifications (dog/cat, fraud/no fraud, pruchase/leave).\n",
        "- Image data\n",
        "  - Deep learning excels at images, text, and sound.\n",
        "  - How does this relate to ``all data is the same\"?\n",
        "- Image classification notebook; Regression notebook.\n"
      ]
    }
  ]
}